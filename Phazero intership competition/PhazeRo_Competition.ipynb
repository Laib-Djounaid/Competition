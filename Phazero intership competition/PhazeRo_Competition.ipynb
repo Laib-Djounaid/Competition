{
 "cells": [
  {
   "cell_type": "markdown",
   "id": "5b871f55",
   "metadata": {
    "id": "5b871f55"
   },
   "source": [
    "# PhazeRo's 2023 Data Science Internship Challenge"
   ]
  },
  {
   "cell_type": "markdown",
   "id": "5069468c",
   "metadata": {
    "id": "5069468c"
   },
   "source": [
    "## Instructions:\n",
    "- This notebook contains three sections desinged to test your Data Science and programming knowledge.\n",
    "- If you are applying for the research position, there is an additional section at the end for you.\n",
    "- Please list any libraries you import or install using pip below. We have added some that might be helpful\n"
   ]
  },
  {
   "cell_type": "code",
   "execution_count": 524,
   "id": "5540c476",
   "metadata": {
    "id": "5540c476"
   },
   "outputs": [],
   "source": [
    "# !pip install pandas numpy scikit-learn matplotlib\n",
    "#!pip install seaborn\n",
    "#!pip install fitter"
   ]
  },
  {
   "cell_type": "code",
   "execution_count": 73,
   "id": "iHWG7jE2ArhE",
   "metadata": {
    "id": "iHWG7jE2ArhE"
   },
   "outputs": [],
   "source": [
    "import pandas as pd\n",
    "import numpy as np\n",
    "import re\n",
    "from pandas.api.types import CategoricalDtype\n",
    "import matplotlib.pyplot as plt\n",
    "#Include any additional imports you use here"
   ]
  },
  {
   "cell_type": "markdown",
   "id": "579d5bb4",
   "metadata": {
    "id": "579d5bb4"
   },
   "source": [
    "## Section 1\n",
    "In this section, you will have three coding questions to test your programming skills. Please Add your answers to the code block under every question, and elaborate on your thinking process and answer in the markdown block."
   ]
  },
  {
   "cell_type": "markdown",
   "id": "43f2210c",
   "metadata": {
    "id": "43f2210c"
   },
   "source": [
    "### Question 1: Palindrome Number\n",
    "\n",
    "Given an integer `x`, return `true` if `x` is a [palindrome](https://en.wikipedia.org/wiki/Palindromic_number), and `false` otherwise.\n",
    "\n",
    "\n",
    "\n",
    "- Example 1:\n",
    "```\n",
    "Input: x = 121\n",
    "Output: true\n",
    "Explanation: 121 reads as 121 from left to right and from right to left.\n",
    "```\n",
    "- Example 2\n",
    "```\n",
    "Input: x = -121\n",
    "Output: false\n",
    "Explanation: From left to right, it reads -121. From right to left, it becomes 121-. Therefore it is not a palindrome.\n",
    "```\n",
    "- Example 3:\n",
    "```\n",
    "Input: x = 10\n",
    "Output: false\n",
    "Explanation: Reads 01 from right to left. Therefore it is not a palindrome.\n",
    "```\n",
    " \n",
    "\n",
    "Constraints:\n",
    "\n",
    "$$-2^{31} <= x <= 2^{31} - 1$$\n",
    " \n",
    "\n",
    "Complete the function `isPalindrome(x)` below: "
   ]
  },
  {
   "cell_type": "code",
   "execution_count": 74,
   "id": "c204aa10",
   "metadata": {
    "id": "c204aa10"
   },
   "outputs": [],
   "source": [
    "#First Solution :\n",
    "def isPalindrome(x: int) -> bool:\n",
    "    for i in range(len(str(x))) :\n",
    "        if str(x)[i]!=str(x)[-1-i] :\n",
    "            return False\n",
    "    return True\n",
    "\n",
    "\n",
    "#Second Solution :\n",
    "\n",
    "#Creating a function that calculates the number of digits of a number :\n",
    "def len_nb(x: int) -> int :\n",
    "        #if x<0 :\n",
    "        #    return len_nb(-x)+1\n",
    "        if x in range(10):\n",
    "            return 1\n",
    "        n=0\n",
    "        while x%pow(10,n) != x: \n",
    "            n+=1\n",
    "        return n\n",
    "\n",
    "\n",
    "def isPalindrome2(x: int) -> bool:\n",
    "    #All negative numbers are not palindromes\n",
    "    if x<0 :\n",
    "        return False\n",
    "    #All Numbers containing only one digit are palindromes\n",
    "    if len_nb(x)==1 :\n",
    "        return True\n",
    "    #Numbers containing more than one digit\n",
    "    if len_nb(x)>1 :\n",
    "        p = len_nb(x)-1\n",
    "        q = x//pow(10,p)\n",
    "        r = x%pow(10,p)\n",
    "        if q == r%10 :\n",
    "            x=r//10\n",
    "            return isPalindrome2(x)\n",
    "        else :\n",
    "            return False\n",
    "        \n",
    "    \n",
    "    "
   ]
  },
  {
   "cell_type": "code",
   "execution_count": 79,
   "id": "6c2dde97",
   "metadata": {
    "id": "6c2dde97",
    "scrolled": false
   },
   "outputs": [
    {
     "name": "stdout",
     "output_type": "stream",
     "text": [
      "CPU times: total: 0 ns\n",
      "Wall time: 0 ns\n"
     ]
    },
    {
     "data": {
      "text/plain": [
       "True"
      ]
     },
     "execution_count": 79,
     "metadata": {},
     "output_type": "execute_result"
    }
   ],
   "source": [
    "%time\n",
    "isPalindrome(11211)"
   ]
  },
  {
   "cell_type": "markdown",
   "id": "a9aea770",
   "metadata": {
    "id": "a9aea770"
   },
   "source": [
    "#### Code Explanation and thought process:\n",
    "##### Points to consider: could you complete the above function without changing the input to string?\n",
    "-The easiest way to do it using python is obiously transforming the int into a string and then use a loop to check if the string is symetric or palyndrome\n",
    "-The second method consists of trying to find the number of digits of the number, I then used some maths to check if the last and the first digits are the same (In my case I did it recursively, but could be done iteratively). I've also eliminated the obvious usecases, like negative numbers which are never palindromes and numbers with one digit which are always palindroms.\n",
    "PS.I could put len_nb inside isPalindrome() but It's more clear outside."
   ]
  },
  {
   "cell_type": "markdown",
   "id": "fc889e71",
   "metadata": {
    "id": "fc889e71"
   },
   "source": [
    "### Question 2: Contains Duplicate\n",
    "Given an integer array `nums`, return `true` if any value appears at least twice in the array, and return `false` if every element is distinct.\n",
    "\n",
    " \n",
    "\n",
    "- Example 1:\n",
    "```\n",
    "Input: nums = [1,2,3,1]\n",
    "Output: true\n",
    "```\n",
    "- Example 2:\n",
    "```\n",
    "Input: nums = [1,2,3,4]\n",
    "Output: false\n",
    "```\n",
    "- Example 3:\n",
    "```\n",
    "Input: nums = [1,1,1,3,3,4,3,2,4,2]\n",
    "Output: true\n",
    "```\n",
    "\n",
    "Constraints:\n",
    "$$ 1 <= nums.length <= 105 $$\n",
    "$$ -10^9 <= nums[i] <= 10^9$$\n",
    "\n",
    "\n",
    "\n",
    "Complete the function `containsDuplicate(nums)` below: \n",
    "\n"
   ]
  },
  {
   "cell_type": "code",
   "execution_count": 80,
   "id": "98efdd75",
   "metadata": {
    "id": "98efdd75"
   },
   "outputs": [],
   "source": [
    "#First solution :\n",
    "def containsDuplicate(nums: list[int]) -> bool:\n",
    "    return len(nums)!=len(set(nums))\n",
    "\n",
    "\n",
    "#Second Solution\n",
    "\n",
    "def containsDuplicate2(nums: list[int]) -> bool:\n",
    "    dic = {}\n",
    "    for n in nums :\n",
    "        if n in dic.keys():\n",
    "            return True\n",
    "        dic[n]=1\n",
    "    return False\n",
    "\n",
    "#Third solution :\n",
    "def containsDuplicate3(nums: list[int]) -> bool:\n",
    "    for i in range(len(nums)-1) :\n",
    "        if sorted(nums)[i] == sorted(nums)[i+1] :\n",
    "            return True\n",
    "    return False"
   ]
  },
  {
   "cell_type": "code",
   "execution_count": 81,
   "id": "be48f91c",
   "metadata": {
    "colab": {
     "base_uri": "https://localhost:8080/"
    },
    "id": "be48f91c",
    "outputId": "d213b8ed-0e20-45ca-c504-08f38ffee9ac"
   },
   "outputs": [
    {
     "name": "stdout",
     "output_type": "stream",
     "text": [
      "CPU times: total: 0 ns\n",
      "Wall time: 0 ns\n"
     ]
    },
    {
     "data": {
      "text/plain": [
       "True"
      ]
     },
     "execution_count": 81,
     "metadata": {},
     "output_type": "execute_result"
    }
   ],
   "source": [
    "%time\n",
    "containsDuplicate([1,3,2,2,4])"
   ]
  },
  {
   "cell_type": "markdown",
   "id": "06084e33",
   "metadata": {
    "id": "06084e33"
   },
   "source": [
    "#### Code Explanation and thought process:\n",
    "A set is a data sctucture that does not contain duplicates, so if we transform a list to a set and it still has the same length, then it has no duplicates.\n",
    "-Another way to do it is to iterate through the list, and use a dictionnary to store the list numbers as keys, all first stored with the value 1,and before storing the number in the dictionnary we check whether it has been stored previously or not. If yes we return True (It can be done with lists as well).\n",
    "-Another method we could use is to sort the list and then check if at any moment num[i]==num[i+1]."
   ]
  },
  {
   "cell_type": "markdown",
   "id": "8b308013",
   "metadata": {
    "id": "8b308013"
   },
   "source": [
    "### Question 3: Group Anagrams\n",
    "Given an array of strings `strs`, group the anagrams together. You can return the answer in any order.\n",
    "\n",
    "An Anagram is a word or phrase formed by rearranging the letters of a different word or phrase, typically using all the original letters exactly once.\n",
    "\n",
    " \n",
    "\n",
    "- Example 1:\n",
    "```\n",
    "Input: strs = [\"eat\",\"tea\",\"tan\",\"ate\",\"nat\",\"bat\"]\n",
    "Output: [[\"bat\"],[\"nat\",\"tan\"],[\"ate\",\"eat\",\"tea\"]]\n",
    "```\n",
    "- Example 2:\n",
    "```\n",
    "Input: strs = [\"\"]\n",
    "Output: [[\"\"]]\n",
    "```\n",
    "- Example 3:\n",
    "```\n",
    "Input: strs = [\"a\"]\n",
    "Output: [[\"a\"]]\n",
    "```\n",
    "\n",
    "Constraints:\n",
    "\n",
    "$$1 <= strs.length <= 104$$\n",
    "$$0 <= strs[i].length <= 100$$\n",
    "$$\\textrm{strs[i] consists of lowercase English letters.}$$\n",
    "\n",
    "Complete the function `groupAnagrams(strs)` below:"
   ]
  },
  {
   "cell_type": "code",
   "execution_count": 82,
   "id": "0e39e7fd",
   "metadata": {
    "id": "0e39e7fd"
   },
   "outputs": [],
   "source": [
    "def groupAnagrams(strs: list[str]) -> list[list[str]]:\n",
    "    dic = {}\n",
    "    for s in strs :\n",
    "        x = str(sorted(s))\n",
    "        if x in dic.keys() :\n",
    "            dic[x].append(s)\n",
    "        else :\n",
    "            dic[x]=[s]\n",
    "    return list(dic.values())\n",
    "        "
   ]
  },
  {
   "cell_type": "code",
   "execution_count": 83,
   "id": "684f86b3",
   "metadata": {
    "colab": {
     "base_uri": "https://localhost:8080/"
    },
    "id": "684f86b3",
    "outputId": "2a0cdf7b-4713-4412-a1e2-c0169d410ca4"
   },
   "outputs": [
    {
     "name": "stdout",
     "output_type": "stream",
     "text": [
      "CPU times: total: 0 ns\n",
      "Wall time: 0 ns\n"
     ]
    },
    {
     "data": {
      "text/plain": [
       "[['eat', 'tea', 'ate'], ['tan', 'nat'], ['bat']]"
      ]
     },
     "execution_count": 83,
     "metadata": {},
     "output_type": "execute_result"
    }
   ],
   "source": [
    "%time\n",
    "groupAnagrams([\"eat\",\"tea\",\"tan\",\"ate\",\"nat\",\"bat\"])"
   ]
  },
  {
   "cell_type": "markdown",
   "id": "8a7c91c3",
   "metadata": {
    "id": "8a7c91c3"
   },
   "source": [
    "#### Code Explanation and thought process:\n",
    "-For this solution I used the fact that sorted anagrams are the same (whether they are manipulated as lists or strings). Hence, I created a dictionnary in which the keys are unique sorted anagrams, and the values are lists of the strings given, so if a sorted string is already in the dictionnary.keys(), the string itself (unsorted) is assigned to its group, else, its the first string of a new group"
   ]
  },
  {
   "cell_type": "markdown",
   "id": "6bc9814a",
   "metadata": {
    "id": "6bc9814a"
   },
   "source": [
    "## Section 2\n",
    "In this section, you will be working with csv files. There is a total of 3 files thay you will need to load up, clean and draw insgits from\n",
    "```\n",
    "- bmi.csv -> This dataset shows the mean BMI for people over 18 years old per country, and split into [Male, Female, both sexes] for each year from 1975-2016.\n",
    "- gni.csv -> The Gross National Income by country, the indicator used is -GNI per capita, Atlas method (current US$), given by the code NY.GNP.PCAP.CD-. Each country is sampled per year for when the data is available.\n",
    "- life_expec.csv -> Each country is given Life expectancy at birth (years), Life expectancy at age 60 (years), Healthy life expectancy (HALE) at birth (years) Healthy life expectancy (HALE) at age 60 (years), for Male, Female, and both sexes. Each country is sampled at 4 years (2000,2010,2015,2019)\n",
    "```\n",
    "To get more insight into the datasets, below are links to World Health Organization to describe the terms further:\n",
    "- [BMI](https://www.who.int/data/gho/data/themes/topics/topic-details/GHO/body-mass-index)\n",
    "- [GNI](https://www.who.int/data/gho/indicator-metadata-registry/imr-details/1144)\n",
    "- [Life Expectancy](https://www.who.int/data/gho/data/themes/topics/topic-details/GHO/body-mass-index)"
   ]
  },
  {
   "cell_type": "markdown",
   "id": "97593f55",
   "metadata": {
    "id": "97593f55"
   },
   "source": [
    "Reshape the datasets to look like the following figures, and display the shape of the new datasets. Answer questions regarding the resulting datasets when prompoted:"
   ]
  },
  {
   "cell_type": "markdown",
   "id": "SQy03mi21DaH",
   "metadata": {
    "id": "SQy03mi21DaH"
   },
   "source": [
    "#### - ```bmi.csv```\n",
    "```\n",
    "          Country  Year        Both Sexes     Male     Female\n",
    "0     Afghanistan  2016          23.0         22.3     23.7 \n",
    "1     Afghanistan  2015          22.9         22.3     23.6 \n",
    "2     Afghanistan  2014          22.8         22.2     23.5 \n",
    "3     Afghanistan  2013          22.8         22.1     23.4 \n",
    "4     Afghanistan  2012          22.7         22.0     23.3 \n",
    "...           ...   ...           ...          ...      ...\n",
    "8143     Zimbabwe  1979          22.0         20.3     23.6 \n",
    "8144     Zimbabwe  1978          21.9         20.2     23.6 \n",
    "8145     Zimbabwe  1977          21.9         20.2     23.5 \n",
    "8146     Zimbabwe  1976          21.8         20.1     23.5 \n",
    "8147     Zimbabwe  1975          21.8         20.0     23.5 \n",
    "```"
   ]
  },
  {
   "cell_type": "code",
   "execution_count": 84,
   "id": "iPpjc4cW1FoG",
   "metadata": {
    "id": "iPpjc4cW1FoG"
   },
   "outputs": [],
   "source": [
    "def bmi_df() -> pd.DataFrame:\n",
    "    #Importing the dataset\n",
    "    df = pd.read_csv(\"bmi.csv\")\n",
    "\n",
    "    #Droping the first 3 lines\n",
    "    df=df.drop(index=[0,1,2]).reset_index(drop=True)\n",
    "\n",
    "    #Renaming the first column to Country\n",
    "    df=df.rename(columns={'Unnamed: 0':'Country'})\n",
    "\n",
    "    #Deleting all the content into brackets :\n",
    "    for c in df.columns[1:] :\n",
    "        df[c]=df[c].apply(lambda x: x[:4])\n",
    "\n",
    "    #Applying melt method and keep the index as a column so we keep track of years' order of appearance\n",
    "    df=pd.melt(df,id_vars=['Country'],value_vars=df.columns[1:]).reset_index()\n",
    "\n",
    "    #Renaming 'variable' column into 'Year'\n",
    "    df=df.rename(columns={'variable':'Year'})\n",
    "\n",
    "    #Sorting by country and by years (the same order the years where in as columns)\n",
    "    df=df.sort_values(by=['Country','index'])\n",
    "\n",
    "    #Droping 'index' column as we don't need it anymore\n",
    "    df=df.drop(['index'],axis=1)\n",
    "\n",
    "    #Reseting the index so it starts from 0\n",
    "    df=df.reset_index(drop=True)\n",
    "\n",
    "    #Deleting the .1 and .2 at the end of the years, so we have each year three times in a row\n",
    "    df['Year']= df['Year'].apply(lambda x : x[:4])\n",
    "\n",
    "    #Grouping the data by 'Country' and 'Year', and grouping numbers into a list\n",
    "    #Then reset_index() to transform 'Country' and 'Year' into columns again\n",
    "    df=pd.DataFrame(df.groupby(['Country','Year'],sort=False)['value'].apply(list)).reset_index()\n",
    "\n",
    "    #Tranforming the column 'value' of lists into a data frame of three columns : ['Both Sexes','Male','Female']\n",
    "    x= pd.DataFrame(df['value'].to_list(),columns=['Both Sexes','Male','Female'])\n",
    "\n",
    "    #Combining the two datasets: \n",
    "    df=pd.concat([df,x],axis=1)\n",
    "\n",
    "    #Droping the 'value' column at the end\n",
    "    df=df.drop(['value'],axis=1)\n",
    "\n",
    "    return df\n"
   ]
  },
  {
   "cell_type": "code",
   "execution_count": 85,
   "id": "kPeRuTnQBeE6",
   "metadata": {
    "id": "kPeRuTnQBeE6"
   },
   "outputs": [],
   "source": [
    "#TODO: Save the generated bmi_df as a .csv format, you will be submitting it alongside the Notebook\n",
    "bmi_df().to_csv(\"bmi_df.csv\")"
   ]
  },
  {
   "cell_type": "markdown",
   "id": "ZXDRSS660ufo",
   "metadata": {
    "id": "ZXDRSS660ufo"
   },
   "source": [
    "#### - ```life_excpec.csv:```\n",
    "```\n",
    "          Country   Year    Both Sexes  Male Female  Category\n",
    "0     Afghanistan   2019      63.2    63.3   63.2  Life expectancy at birth \n",
    "1     Afghanistan   2019      15.2    15.4   15.1  Life expectancy at age 60 \n",
    "2     Afghanistan   2019      53.9    54.7   53.2  Healthy Life expectancy at birth \n",
    "3     Afghanistan   2019      10.8    11.2   10.6  Healthy life expectancy at age 60 \n",
    "4     Afghanistan   2015      61.7    61.0   62.3  Life expectancy at birth\n",
    "...           ...    ...        ...   ...    ...   \n",
    "2907     Zimbabwe   2010      10.5     9.3   11.3  Healthy life expectancy at age 60 \n",
    "2908     Zimbabwe   2000      46.6    45.1   48.1  Life expectancy at birth \n",
    "2909     Zimbabwe   2000      14.4    11.7   17.1  Life expectancy at age 60 \n",
    "2910     Zimbabwe   2000      41.0    40.4   41.8   Healthy life expectancy at birth\n",
    "2911     Zimbabwe   2000      10.6     8.7   12.4  Healthy life expectancy at age 60 \n",
    "```\n"
   ]
  },
  {
   "cell_type": "code",
   "execution_count": 87,
   "id": "snTu3FRg04VP",
   "metadata": {
    "id": "snTu3FRg04VP"
   },
   "outputs": [],
   "source": [
    "def life_excpec_df() -> pd.DataFrame:\n",
    "    \n",
    "    #Importing the dataset\n",
    "    df=pd.read_csv(\"life_expec.csv\")\n",
    "\n",
    "    #Droping the first 3 lines\n",
    "    df=df.drop(index=[0]).reset_index(drop=True)\n",
    "\n",
    "    #Renaming the first column to Country\n",
    "    df=df.rename(columns={'Unnamed: 0':'Country','Unnamed: 1':'Year'})\n",
    "    \n",
    "    #Applying melt method and keep the index as a column so we keep track of years order of appearance\n",
    "    df=pd.melt(df,id_vars=['Country','Year'],value_vars=df.columns[2:]).reset_index()\n",
    "\n",
    "    #Renaming 'variable' column into 'Category'\n",
    "    df=df.rename(columns={'variable':'Category'})\n",
    "    \n",
    "    #Changing the column's disposition\n",
    "    df=df.reindex(columns=['Country','Year','value','Category'])\n",
    "    \n",
    "    # Creating an column of the indexes and renaming it to Rank\n",
    "    #The goal of this is to keep track of the order of years bcz it's not acs nor desc\n",
    "    df=df.reset_index()\n",
    "    df=df.rename(columns={'index':'Rank'})\n",
    "    df=df.reindex(columns=['Country','Rank','Year','Category','value'])\n",
    "    \n",
    "    # Looping through the 'rank' column, so all the 2019 years are ranked as 0, 2015 as 1 ...etc.\n",
    "    n=0\n",
    "    for index, row in df.iterrows() :\n",
    "        if n==4 :\n",
    "            n=0\n",
    "        df.loc[index,'Rank']=n\n",
    "        n+=1\n",
    "    #Sorting by 'Country' and 'Rank' so we can get the first country with 2019 then first country with 2015 ...etc\n",
    "    df=df.sort_values(by=['Country','Rank'])\n",
    "    #Using a regular expression to get rid of unwanted substrings\n",
    "    df['Category']=df['Category'].apply(lambda x : re.sub(' \\(\\w+\\)|\\.[1|2]','',x))\n",
    "    #Grouping by every column except of the 'value' column\n",
    "    df=pd.DataFrame(df.groupby(['Country','Rank','Year','Category'],sort=False)['value'].apply(list)).reset_index()\n",
    "    #Regrouping the values of 'Both Sexes','Male','Female' in a list\n",
    "    x= pd.DataFrame(df['value'].to_list(),columns=['Both Sexes','Male','Female'])\n",
    "    #Combining the two datasets: \n",
    "    df=pd.concat([df,x],axis=1)\n",
    "    #Droping the 'value' and 'rank' column at the end at we don't need them anymore\n",
    "    df=df.drop(['value','Rank'],axis=1)\n",
    "    #Reordering datasets' columns\n",
    "    df=df.reindex(columns=['Country','Year','Both Sexes','Male','Female','Category'])\n",
    "    \n",
    "    return df\n"
   ]
  },
  {
   "cell_type": "markdown",
   "id": "Ya7p2R085lHl",
   "metadata": {
    "id": "Ya7p2R085lHl"
   },
   "source": [
    "Answer the following questions regarding `life_expec.csv`"
   ]
  },
  {
   "cell_type": "markdown",
   "id": "pDo6p2K16CIj",
   "metadata": {
    "id": "pDo6p2K16CIj"
   },
   "source": [
    "a) What is the total number of unique countries?"
   ]
  },
  {
   "cell_type": "code",
   "execution_count": 88,
   "id": "q9wNVOIE6J9P",
   "metadata": {
    "id": "q9wNVOIE6J9P"
   },
   "outputs": [
    {
     "data": {
      "text/plain": [
       "182"
      ]
     },
     "execution_count": 88,
     "metadata": {},
     "output_type": "execute_result"
    }
   ],
   "source": [
    "# TODO: Insert Code here to find the total number of unique countries. Return an integer.\n",
    "df= life_excpec_df()\n",
    "len(df['Country'].unique())"
   ]
  },
  {
   "cell_type": "markdown",
   "id": "r01FKvSw6QY_",
   "metadata": {
    "id": "r01FKvSw6QY_"
   },
   "source": [
    "b) What are the years used in the dataset?"
   ]
  },
  {
   "cell_type": "code",
   "execution_count": 89,
   "id": "d3rlIxGn6QEV",
   "metadata": {
    "id": "d3rlIxGn6QEV"
   },
   "outputs": [
    {
     "data": {
      "text/plain": [
       "[2019, 2015, 2010, 2000]"
      ]
     },
     "execution_count": 89,
     "metadata": {},
     "output_type": "execute_result"
    }
   ],
   "source": [
    "# TODO: Insert Code here to find the years used in the dataset. Return a list.\n",
    "df= life_excpec_df()\n",
    "#To return a list of int :\n",
    "df.Year=df.Year.astype(int)\n",
    "\n",
    "#To return a list of str :\n",
    "#df.Year=df.Year.astype(str)\n",
    "\n",
    "list(df['Year'].unique())"
   ]
  },
  {
   "cell_type": "markdown",
   "id": "bJdBAarH6WWG",
   "metadata": {
    "id": "bJdBAarH6WWG"
   },
   "source": [
    "c) What is the average life expectancy at birth in Kuwait for males over years?"
   ]
  },
  {
   "cell_type": "code",
   "execution_count": 90,
   "id": "3kC4TBDp6P1k",
   "metadata": {
    "id": "3kC4TBDp6P1k"
   },
   "outputs": [
    {
     "data": {
      "text/plain": [
       "78.5"
      ]
     },
     "execution_count": 90,
     "metadata": {},
     "output_type": "execute_result"
    }
   ],
   "source": [
    "# TODO: Insert Code here to find the average life expectancy at birth in Kuwait for males over years. Return a float.\n",
    "df= life_excpec_df()\n",
    "df.loc[(df.Country=='Kuwait') & (df.Category == 'Life expectancy at birth'),'Male'].astype(float).mean()"
   ]
  },
  {
   "cell_type": "markdown",
   "id": "IXIpPfJC6YF5",
   "metadata": {
    "id": "IXIpPfJC6YF5"
   },
   "source": [
    "d) What is the highest life expectancy at age 60 for both sexes over the years? Get\n",
    "the country and year."
   ]
  },
  {
   "cell_type": "code",
   "execution_count": 91,
   "id": "CDC2YsoF6PjT",
   "metadata": {
    "id": "CDC2YsoF6PjT"
   },
   "outputs": [
    {
     "data": {
      "text/plain": [
       "('Japan', ' 2019')"
      ]
     },
     "execution_count": 91,
     "metadata": {},
     "output_type": "execute_result"
    }
   ],
   "source": [
    "# TODO: Insert Code here to find the highest life expectancy at age 60 for both sexes over the years. Return a tuple.\n",
    "df= life_excpec_df()\n",
    "x=df.loc[df.Category=='Life expectancy at age 60'].sort_values(by=['Both Sexes'],ascending=False)[['Country','Year']]\n",
    "tuple(x.iloc[0])"
   ]
  },
  {
   "cell_type": "markdown",
   "id": "04VmbgLA048f",
   "metadata": {
    "id": "04VmbgLA048f"
   },
   "source": [
    "#### - ```gni.csv```\n",
    "```\n",
    "          Country       Country Code  Year  GNI per Capita\n",
    "0         Aruba          ABW        1960             NaN\n",
    "1         Aruba          ABW        1961             NaN\n",
    "2         Aruba          ABW        1962             NaN\n",
    "3         Aruba          ABW        1963             NaN\n",
    "4         Aruba          ABW        1964             NaN\n",
    "...         ...          ...        ...             ...\n",
    "16425  Zimbabwe          ZWE        2017          1170.0\n",
    "16426  Zimbabwe          ZWE        2018          1550.0\n",
    "16427  Zimbabwe          ZWE        2019          1450.0\n",
    "16428  Zimbabwe          ZWE        2020          1460.0\n",
    "16429  Zimbabwe          ZWE        2021          1530.0\n",
    "```"
   ]
  },
  {
   "cell_type": "code",
   "execution_count": 92,
   "id": "eqbmFST10twB",
   "metadata": {
    "id": "eqbmFST10twB"
   },
   "outputs": [],
   "source": [
    "def gni_df() -> pd.DataFrame:\n",
    "    #Importing the dataset\n",
    "    df = pd.read_csv(\"gni.csv\")\n",
    "    #Droping uneeded columns\n",
    "    df=df.drop(['Indicator Name','Indicator Code'],axis=1)\n",
    "    #\n",
    "    df=pd.melt(df,id_vars=['Country Name','Country Code'],value_vars=df.columns[2:])\n",
    "    #Renaming the columns to match the result required\n",
    "    df=df.rename(columns={'variable':'Year','value':'GNI per Capita'})\n",
    "    #Sorting by 'Country Code' and 'Year'\n",
    "    df=df.sort_values(by=['Country Code','Year']).reset_index(drop=True)\n",
    "    \n",
    "    return df"
   ]
  },
  {
   "cell_type": "code",
   "execution_count": 562,
   "id": "3AYD0UDg7UzY",
   "metadata": {
    "id": "3AYD0UDg7UzY"
   },
   "outputs": [
    {
     "data": {
      "image/png": "[encoded data removed]",
      "text/plain": [
       "<Figure size 875x500 with 1 Axes>"
      ]
     },
     "metadata": {},
     "output_type": "display_data"
    }
   ],
   "source": [
    "# TODO: Using the dataframe generated from gni_df(), comment on the data structure,\n",
    "# number of data points, create visualizations, preform some other statistical analysis.\n",
    "# This is open ended question, get creative!\n",
    "\n",
    "import seaborn as sns\n",
    "\n",
    "#Data Exploration and description\n",
    "\n",
    "df= gni_df()\n",
    "#Sorting our data by Year and GNI per Capita :\n",
    "df=df.sort_values(by=['Year','GNI per Capita'],ascending=False)\n",
    "#Droping Nan values :\n",
    "df=df.dropna()\n",
    "\n",
    "#Data Distribution :\n",
    "\n",
    "sns.set_style('white')\n",
    "sns.set_context(\"paper\", font_scale = 2)\n",
    "#Choose the year :\n",
    "year= 2021\n",
    "sns.displot(data=df.loc[df.Year == str(year)], x=\"GNI per Capita\", kind=\"hist\", bins = 5, aspect = 1.75)\n",
    "plt.title('Distribution and count of GNI per capita column in '+str(year))\n",
    "plt.show()\n",
    "\n",
    "#Comment\n",
    "#-------\n",
    "#We can see that there are a lot entities that are not real countries in the dataset(Like continents),\n",
    "#and that may affect the quality of the results,so it would be better to delete them and potentialy store them for reuse.\n",
    "#PS. We can avoid doing it manually by getting a list of all countries or maybe use an API\n",
    "#and do the intersection with our dataset, but I don't know if it is allowed in that competition\n",
    "#-------\n",
    "\n"
   ]
  },
  {
   "cell_type": "code",
   "execution_count": 474,
   "id": "dd96a8aa",
   "metadata": {},
   "outputs": [
    {
     "data": {
      "image/png": "[encoded data removed]",
      "text/plain": [
       "<Figure size 1600x600 with 1 Axes>"
      ]
     },
     "metadata": {},
     "output_type": "display_data"
    }
   ],
   "source": [
    "#Data visualisation :\n",
    "#Connected scatter plot showing the fluctuation of the world average Gni per capita\n",
    "df1=df.groupby('Year')['GNI per Capita'].mean().reset_index()\n",
    "plt.figure(figsize=(16, 6))\n",
    "plt.plot(df1.Year,df1['GNI per Capita'],'-o')\n",
    "x= np.append(np.arange(int(df1.Year[0]),2021,3).astype(str),'2021')\n",
    "plt.xticks(x)\n",
    "plt.title('Fluctuations of world average GNI per Capita between 1962 and 2021')\n",
    "plt.xlabel(\"Years\")\n",
    "plt.ylabel(\"Avg GNI per Capita\")\n",
    "plt.grid()\n",
    "plt.show()"
   ]
  },
  {
   "cell_type": "code",
   "execution_count": 561,
   "id": "771ac7c3",
   "metadata": {},
   "outputs": [
    {
     "data": {
      "text/html": [
       "<div>\n",
       "<style scoped>\n",
       "    .dataframe tbody tr th:only-of-type {\n",
       "        vertical-align: middle;\n",
       "    }\n",
       "\n",
       "    .dataframe tbody tr th {\n",
       "        vertical-align: top;\n",
       "    }\n",
       "\n",
       "    .dataframe thead th {\n",
       "        text-align: right;\n",
       "    }\n",
       "</style>\n",
       "<table border=\"1\" class=\"dataframe\">\n",
       "  <thead>\n",
       "    <tr style=\"text-align: right;\">\n",
       "      <th></th>\n",
       "      <th></th>\n",
       "      <th>GNI per Capita</th>\n",
       "    </tr>\n",
       "    <tr>\n",
       "      <th>Year</th>\n",
       "      <th>Country Name</th>\n",
       "      <th></th>\n",
       "    </tr>\n",
       "  </thead>\n",
       "  <tbody>\n",
       "    <tr>\n",
       "      <th rowspan=\"3\" valign=\"top\">2021</th>\n",
       "      <th>Bermuda</th>\n",
       "      <td>122470.0</td>\n",
       "    </tr>\n",
       "    <tr>\n",
       "      <th>Switzerland</th>\n",
       "      <td>90600.0</td>\n",
       "    </tr>\n",
       "    <tr>\n",
       "      <th>Luxembourg</th>\n",
       "      <td>88190.0</td>\n",
       "    </tr>\n",
       "    <tr>\n",
       "      <th rowspan=\"3\" valign=\"top\">2020</th>\n",
       "      <th>Bermuda</th>\n",
       "      <td>111800.0</td>\n",
       "    </tr>\n",
       "    <tr>\n",
       "      <th>Switzerland</th>\n",
       "      <td>82740.0</td>\n",
       "    </tr>\n",
       "    <tr>\n",
       "      <th>Luxembourg</th>\n",
       "      <td>79580.0</td>\n",
       "    </tr>\n",
       "    <tr>\n",
       "      <th rowspan=\"3\" valign=\"top\">2019</th>\n",
       "      <th>Bermuda</th>\n",
       "      <td>117280.0</td>\n",
       "    </tr>\n",
       "    <tr>\n",
       "      <th>Isle of Man</th>\n",
       "      <td>84580.0</td>\n",
       "    </tr>\n",
       "    <tr>\n",
       "      <th>Switzerland</th>\n",
       "      <td>84250.0</td>\n",
       "    </tr>\n",
       "    <tr>\n",
       "      <th rowspan=\"3\" valign=\"top\">2018</th>\n",
       "      <th>Bermuda</th>\n",
       "      <td>117000.0</td>\n",
       "    </tr>\n",
       "    <tr>\n",
       "      <th>Isle of Man</th>\n",
       "      <td>83960.0</td>\n",
       "    </tr>\n",
       "    <tr>\n",
       "      <th>Switzerland</th>\n",
       "      <td>83270.0</td>\n",
       "    </tr>\n",
       "    <tr>\n",
       "      <th rowspan=\"3\" valign=\"top\">2017</th>\n",
       "      <th>Bermuda</th>\n",
       "      <td>112940.0</td>\n",
       "    </tr>\n",
       "    <tr>\n",
       "      <th>Switzerland</th>\n",
       "      <td>81870.0</td>\n",
       "    </tr>\n",
       "    <tr>\n",
       "      <th>Isle of Man</th>\n",
       "      <td>78840.0</td>\n",
       "    </tr>\n",
       "    <tr>\n",
       "      <th rowspan=\"3\" valign=\"top\">2016</th>\n",
       "      <th>Bermuda</th>\n",
       "      <td>103620.0</td>\n",
       "    </tr>\n",
       "    <tr>\n",
       "      <th>Switzerland</th>\n",
       "      <td>84430.0</td>\n",
       "    </tr>\n",
       "    <tr>\n",
       "      <th>Norway</th>\n",
       "      <td>81370.0</td>\n",
       "    </tr>\n",
       "  </tbody>\n",
       "</table>\n",
       "</div>"
      ],
      "text/plain": [
       "                   GNI per Capita\n",
       "Year Country Name                \n",
       "2021 Bermuda             122470.0\n",
       "     Switzerland          90600.0\n",
       "     Luxembourg           88190.0\n",
       "2020 Bermuda             111800.0\n",
       "     Switzerland          82740.0\n",
       "     Luxembourg           79580.0\n",
       "2019 Bermuda             117280.0\n",
       "     Isle of Man          84580.0\n",
       "     Switzerland          84250.0\n",
       "2018 Bermuda             117000.0\n",
       "     Isle of Man          83960.0\n",
       "     Switzerland          83270.0\n",
       "2017 Bermuda             112940.0\n",
       "     Switzerland          81870.0\n",
       "     Isle of Man          78840.0\n",
       "2016 Bermuda             103620.0\n",
       "     Switzerland          84430.0\n",
       "     Norway               81370.0"
      ]
     },
     "execution_count": 561,
     "metadata": {},
     "output_type": "execute_result"
    }
   ],
   "source": [
    "#Top 3 Countries whith the highest GNI per Capita for the last n years :\n",
    "n=6\n",
    "df2=df\n",
    "#df2.index=(df['Year'])\n",
    "df2=df2.drop(['Country Code'],axis=1)\n",
    "df2=df2.sort_values(['Year','GNI per Capita'],ascending= False)\n",
    "#df2=df2.sort_index(ascending=False)\n",
    "df2=pd.DataFrame(df2.groupby(['Year','Country Name'],sort=False)['GNI per Capita'].mean())#.nlargest(3,'GNI per Capita')\n",
    "df2=df2.reset_index('Country Name')\n",
    "u = df2.index.unique()[:n]\n",
    "df2=df2.loc[df2.index.isin(u)]\n",
    "df2=df2.sort_values(['Year','GNI per Capita'],ascending= False)\n",
    "\n",
    "x=df2.loc[df2.index=='2021'].nlargest(3,'GNI per Capita')\n",
    "for i in range(1,len(u)) :\n",
    "    x=pd.concat([x,df2.loc[df2.index==str(u[i])].nlargest(3,'GNI per Capita')])\n",
    "\n",
    "x=x.reset_index()\n",
    "x=x.set_index(['Year','Country Name'])\n",
    "x"
   ]
  },
  {
   "cell_type": "markdown",
   "id": "13984d91",
   "metadata": {
    "id": "13984d91"
   },
   "source": [
    "## Section 3\n",
    "In this section,You will be using the dataframes generated in the last section to preform some supervised learning\n"
   ]
  },
  {
   "cell_type": "markdown",
   "id": "xVDpQjqmwuj1",
   "metadata": {
    "id": "xVDpQjqmwuj1"
   },
   "source": [
    "Create a new dataset to look like the following containing (Country, Year, Gender, GNI per Capita, and BMI) by merging relevant datasets on Year and Country, and display the shape of the new dataset\n"
   ]
  },
  {
   "cell_type": "markdown",
   "id": "n4gDz7S4xLco",
   "metadata": {
    "id": "n4gDz7S4xLco"
   },
   "source": [
    "```\n",
    "           Country  Year    GNI per Capita    Gender   BMI\n",
    "0      Afghanistan  2016           570.0  Both Sexes  23.0 \n",
    "1      Afghanistan  2016           570.0        Male  22.3 \n",
    "2      Afghanistan  2016           570.0      Female  23.7 \n",
    "3      Afghanistan  2015           610.0  Both Sexes  22.9 \n",
    "4      Afghanistan  2015           610.0        Male  22.3 \n",
    "...            ...   ...             ...         ...    ...\n",
    "20911     Zimbabwe  1976           660.0        Male  20.1 \n",
    "20912     Zimbabwe  1976           660.0      Female  23.5 \n",
    "20913     Zimbabwe  1975           690.0  Both Sexes  21.8 \n",
    "20914     Zimbabwe  1975           690.0        Male  20.0 \n",
    "20915     Zimbabwe  1975           690.0      Female  23.5\n",
    "```"
   ]
  },
  {
   "cell_type": "code",
   "execution_count": 93,
   "id": "ooPHKl_azTfz",
   "metadata": {
    "id": "ooPHKl_azTfz"
   },
   "outputs": [],
   "source": [
    "def new_gni_df() -> pd.DataFrame:\n",
    "    #Importing the two previous datasets\n",
    "    df1=bmi_df()\n",
    "    df2= gni_df()\n",
    "    #Renaming column so we can join the two dataframes\n",
    "    df2=df2.rename(columns={'Country Name':'Country'})\n",
    "    #Joining the two dataframes\n",
    "    df=pd.merge(df1,df2,on=['Country','Year'])\n",
    "    #Droping 'Country Code' as we don't need it\n",
    "    df=df.drop('Country Code',axis=1)\n",
    "    #Reposition the columns\n",
    "    df=df.reindex(columns=['Country','Year','Both Sexes','Male','Female','GNI per Capita'])\n",
    "\n",
    "    #Creating un sub dataframe 'x' so it's easy to stack the Gender column\n",
    "\n",
    "    # 'x' only contains 'Both Sexes','Male','Female' columns\n",
    "    x=df.iloc[:,2:-1]\n",
    "    #Stacking the columns\n",
    "    x=x.stack()\n",
    "    #Renaming the columns of 'x' so we can join it with 'df'\n",
    "    x=x.reset_index().rename(columns={'level_0':'index','level_1':'Gender'})\n",
    "    #Joining df and x\n",
    "    df=pd.merge(df.reset_index(),x)\n",
    "    #Droping unnecessary columns\n",
    "    df=df.drop(['index','Both Sexes','Male','Female'],axis=1)\n",
    "    #Renaming the last column to 'BMI'\n",
    "    df.columns.values[-1]='BMI'\n",
    "    return df"
   ]
  },
  {
   "cell_type": "markdown",
   "id": "XJLT_4E-y8Mh",
   "metadata": {
    "id": "XJLT_4E-y8Mh"
   },
   "source": [
    "Build a linear regression model to predict the BMI from GNI per Capita (one feature)."
   ]
  },
  {
   "cell_type": "markdown",
   "id": "np7kVBhWzmPz",
   "metadata": {
    "id": "np7kVBhWzmPz"
   },
   "source": [
    "a) Data cleaning: You must drop missing values."
   ]
  },
  {
   "cell_type": "code",
   "execution_count": 94,
   "id": "KwMx9Dx-zacc",
   "metadata": {
    "id": "KwMx9Dx-zacc"
   },
   "outputs": [],
   "source": [
    "# TODO: You must drop the missing values form the new dataframe\n",
    "df= new_gni_df()\n",
    "#Can be used to check which column contains null values\n",
    "#df.isnull().any()\n",
    "\n",
    "#Droping null values :\n",
    "df=df.dropna().reset_index(drop=True)\n",
    "\n",
    "\n",
    "#Additional cleaning :\n",
    "#---------------------\n",
    "#Droping that unwanted value 'No d'\n",
    "df=df.loc[df['BMI'] != 'No d']\n",
    "#Transforming all numbers into floats\n",
    "df['GNI per Capita']=df['GNI per Capita'].astype(float)\n",
    "df['BMI']=df['BMI'].astype(float)"
   ]
  },
  {
   "cell_type": "markdown",
   "id": "xSy60RtSz7gt",
   "metadata": {
    "id": "xSy60RtSz7gt"
   },
   "source": [
    "b) Splitting the dataset into training and test dataset:\n",
    "- Test dataset: Years [2016, 2015]. The test dataset size must be 960 rows.\n",
    "- Training dataset: All years except [2016, 2015]."
   ]
  },
  {
   "cell_type": "code",
   "execution_count": 95,
   "id": "iNxIXyCEz7FF",
   "metadata": {
    "id": "iNxIXyCEz7FF"
   },
   "outputs": [],
   "source": [
    "# TODO: Split the datasets into test and training as explained above\n",
    "expression = (df.Year == '2016') | (df.Year == '2015')\n",
    "\n",
    "#Test data\n",
    "test = df.loc[expression].reset_index(drop=True)\n",
    "#Training data\n",
    "train = df.loc[~expression].reset_index(drop=True)"
   ]
  },
  {
   "cell_type": "markdown",
   "id": "yaX2mHnJ0LEl",
   "metadata": {
    "id": "yaX2mHnJ0LEl"
   },
   "source": [
    "Fitting the model on a training dataset to predict BMI."
   ]
  },
  {
   "cell_type": "code",
   "execution_count": 112,
   "id": "_kp67Tj00N8w",
   "metadata": {
    "id": "_kp67Tj00N8w"
   },
   "outputs": [
    {
     "data": {
      "image/png": "[encoded data removed]",
      "text/plain": [
       "<Figure size 640x480 with 1 Axes>"
      ]
     },
     "metadata": {},
     "output_type": "display_data"
    }
   ],
   "source": [
    "# TODO: Fit the model on a training dataset to predict BMI\n",
    "from sklearn.linear_model import LinearRegression\n",
    "\n",
    "LR = LinearRegression()\n",
    "\n",
    "#Training data\n",
    "x=train['GNI per Capita']\n",
    "y=train['BMI']\n",
    "\n",
    "# Putting data in the right format\n",
    "x_train=np.array(x).reshape(-1,1)\n",
    "y_train =np.array(y).reshape(-1,1)\n",
    "\n",
    "#Testing data\n",
    "x_test=test['GNI per Capita']\n",
    "y_test=test['BMI']\n",
    "            \n",
    "x_test=np.array(x_test).reshape(-1,1)\n",
    "y_test =(np.array(y_test).reshape(-1,1))\n",
    "\n",
    "#Fitting a model to our data\n",
    "LR.fit(x_train,y_train)\n",
    "\n",
    "#Predicted Data \n",
    "pred= LR.predict(x_test)\n",
    "\n",
    "#Just to visualize data\n",
    "plt.scatter(x_test,y_test)\n",
    "plt.plot(x_test,pred)\n",
    "plt.show()\n"
   ]
  },
  {
   "cell_type": "markdown",
   "id": "49p57zTn0Sgr",
   "metadata": {
    "id": "49p57zTn0Sgr"
   },
   "source": [
    "Evaluating the model on the test dataset by using the mean absolute error\n",
    "(MAE).The MAE should be less than 12."
   ]
  },
  {
   "cell_type": "code",
   "execution_count": 113,
   "id": "BSTF6bsB0Qob",
   "metadata": {
    "id": "BSTF6bsB0Qob"
   },
   "outputs": [
    {
     "data": {
      "text/plain": [
       "2.1966192854198607"
      ]
     },
     "execution_count": 113,
     "metadata": {},
     "output_type": "execute_result"
    }
   ],
   "source": [
    "# TODO: Evaluating the model on the test dataset by using the mean absolute error (MAE)\n",
    "\n",
    "from sklearn.metrics import mean_absolute_error\n",
    " \n",
    "mae = mean_absolute_error(y_true=y_test,y_pred=pred)\n",
    "mae"
   ]
  },
  {
   "cell_type": "markdown",
   "id": "f9fe3492",
   "metadata": {
    "id": "f9fe3492"
   },
   "source": [
    "## Section 4 (Research Intern Applicants Only)"
   ]
  },
  {
   "cell_type": "markdown",
   "id": "2WAeVgIYbxI2",
   "metadata": {
    "id": "2WAeVgIYbxI2"
   },
   "source": [
    "Select a paper from the following conferences:\n",
    "- [NeurIPS](https://nips.cc) (Conference on Neural Information Processing Systems)\n",
    "- [ICML](https://icml.cc) (International Conference on Machine Learning)\n",
    "- [ACL](https://www.aclweb.org/portal/) (Association for Computational Linguistics)\n",
    "- [IJCAI](https://www.ijcai.org) (International Joint Conference on Artificial Intelligence)\n",
    "\n",
    "The paper must be from 2022 and onwards.\n",
    "\n",
    "Answer the following questions related to the selected paper:"
   ]
  },
  {
   "cell_type": "markdown",
   "id": "DtRK4KSocFJC",
   "metadata": {
    "id": "DtRK4KSocFJC"
   },
   "source": [
    "1. Name the research paper you have chosen. Provide a link to the research paper."
   ]
  },
  {
   "cell_type": "markdown",
   "id": "POuORuuDcrwg",
   "metadata": {
    "id": "POuORuuDcrwg"
   },
   "source": [
    "`[Answer Here]`"
   ]
  },
  {
   "cell_type": "markdown",
   "id": "mlGQJFfWcL7X",
   "metadata": {
    "id": "mlGQJFfWcL7X"
   },
   "source": [
    "2. Briefly summarize the main arguments, methodologies, and findings of the research paper.\n"
   ]
  },
  {
   "cell_type": "markdown",
   "id": "sox_IrTecq6m",
   "metadata": {
    "id": "sox_IrTecq6m"
   },
   "source": [
    "`[Answer Here]`"
   ]
  },
  {
   "cell_type": "markdown",
   "id": "_IrVem8wcP3o",
   "metadata": {
    "id": "_IrVem8wcP3o"
   },
   "source": [
    "3. From your perspective, what is the impact and added value from the research paper? what is the novelty?\n"
   ]
  },
  {
   "cell_type": "markdown",
   "id": "hMGDJU3vcpQ8",
   "metadata": {
    "id": "hMGDJU3vcpQ8"
   },
   "source": [
    "`[Answer Here]`"
   ]
  },
  {
   "cell_type": "markdown",
   "id": "0oUz9ZjdcSUu",
   "metadata": {
    "id": "0oUz9ZjdcSUu"
   },
   "source": [
    "4. Critique the methodology used in the paper. Was the research design robust? Are there any weaknesses or areas that could have been improved?\n"
   ]
  },
  {
   "cell_type": "markdown",
   "id": "IfYTGF_1cWxN",
   "metadata": {
    "id": "IfYTGF_1cWxN"
   },
   "source": [
    "`[Answer Here]`"
   ]
  },
  {
   "cell_type": "markdown",
   "id": "A6Rz9my6cUW2",
   "metadata": {
    "id": "A6Rz9my6cUW2"
   },
   "source": [
    "5. If you were to reproduce this study, what resources would you need? Is there enough information in the paper to reproduce the experiments? What challenges do you anticipate in replicating the results?\n"
   ]
  },
  {
   "cell_type": "markdown",
   "id": "8_bHat0McmcB",
   "metadata": {
    "id": "8_bHat0McmcB"
   },
   "source": [
    "`[Answer Here]`"
   ]
  },
  {
   "cell_type": "markdown",
   "id": "VYcMbNhscX0X",
   "metadata": {
    "id": "VYcMbNhscX0X"
   },
   "source": [
    "6. How could the results from the paper be applied in a practical setting? Can you suggest a real-world application for the findings in this research?\n"
   ]
  },
  {
   "cell_type": "markdown",
   "id": "OQaewqgpclH9",
   "metadata": {
    "id": "OQaewqgpclH9"
   },
   "source": [
    "`[Answer Here]`"
   ]
  },
  {
   "cell_type": "markdown",
   "id": "j64gtWkCcaUh",
   "metadata": {
    "id": "j64gtWkCcaUh"
   },
   "source": [
    "7. Can you propose a potential research project that would build on the work done in this paper?\n"
   ]
  },
  {
   "cell_type": "markdown",
   "id": "vgl-Tum0cj3q",
   "metadata": {
    "id": "vgl-Tum0cj3q"
   },
   "source": [
    "`[Answer Here]`"
   ]
  },
  {
   "cell_type": "markdown",
   "id": "LUTSwXhWccJP",
   "metadata": {
    "id": "LUTSwXhWccJP"
   },
   "source": [
    "8. Discuss the statistical methods used in the paper. Were they appropriate? Would you have used a different method? Why or why not?"
   ]
  },
  {
   "cell_type": "markdown",
   "id": "l_N0PxAWcc8O",
   "metadata": {
    "id": "l_N0PxAWcc8O"
   },
   "source": [
    "`[Answer Here]`"
   ]
  }
 ],
 "metadata": {
  "colab": {
   "provenance": []
  },
  "kernelspec": {
   "display_name": "Python 3 (ipykernel)",
   "language": "python",
   "name": "python3"
  },
  "language_info": {
   "codemirror_mode": {
    "name": "ipython",
    "version": 3
   },
   "file_extension": ".py",
   "mimetype": "text/x-python",
   "name": "python",
   "nbconvert_exporter": "python",
   "pygments_lexer": "ipython3",
   "version": "3.9.9"
  }
 },
 "nbformat": 4,
 "nbformat_minor": 5
}
